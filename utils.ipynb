{
 "cells": [
  {
   "cell_type": "code",
   "execution_count": 2,
   "metadata": {},
   "outputs": [],
   "source": [
    "from config import preprocessing as conf_preprocess\n",
    "import utils"
   ]
  },
  {
   "cell_type": "code",
   "execution_count": 3,
   "metadata": {},
   "outputs": [],
   "source": [
    "from scipy import signal\n",
    "from tqdm import tqdm\n",
    "import os\n",
    "import argparse\n",
    "import time\n",
    "import csv\n",
    "import soundfile as sf\n",
    "import numpy as np\n",
    "import librosa\n",
    "import numpy as np\n",
    "import tensorflow as tf\n",
    "import time\n",
    "import librosa.display as display\n",
    "import numpy as np\n",
    "from python_speech_features import mfcc\n",
    "from six.moves import range\n",
    "import scipy.io.wavfile as wav\n",
    "import sys"
   ]
  },
  {
   "cell_type": "code",
   "execution_count": 22,
   "metadata": {},
   "outputs": [],
   "source": [
    "def mfcc(audio , sr , hop_length , win_length):\n",
    "    axis = -1\n",
    "    mean = np.mean(audio, axis=axis)\n",
    "    std_dev = np.std(audio, axis=axis) + 1e-9\n",
    "    normalized = (audio - mean) / std_dev\n",
    "    mfcc = librosa.feature.mfcc(normalized,sr =sr , n_mfcc=80)\n",
    "    mfcc = librosa.amplitude_to_db(mfcc)\n",
    "    return mfcc.T"
   ]
  },
  {
   "cell_type": "code",
   "execution_count": 5,
   "metadata": {},
   "outputs": [],
   "source": [
    "signal, sr = librosa.load('/home/u52660/data/25hours/wavs/0/0/00000.wav')"
   ]
  },
  {
   "cell_type": "code",
   "execution_count": 6,
   "metadata": {},
   "outputs": [
    {
     "data": {
      "text/plain": [
       "(114688,)"
      ]
     },
     "execution_count": 6,
     "metadata": {},
     "output_type": "execute_result"
    }
   ],
   "source": [
    "signal.shape"
   ]
  },
  {
   "cell_type": "code",
   "execution_count": 7,
   "metadata": {},
   "outputs": [],
   "source": [
    "audio = signal \n",
    "axis = -1\n",
    "mean = np.mean(audio, axis=axis)\n",
    "std_dev = np.std(audio, axis=axis) + 1e-9\n",
    "normalized = (audio - mean) / std_dev"
   ]
  },
  {
   "cell_type": "code",
   "execution_count": 12,
   "metadata": {},
   "outputs": [],
   "source": [
    "k=librosa.feature.mfcc(normalized , n_mfcc = 40)"
   ]
  },
  {
   "cell_type": "code",
   "execution_count": 4,
   "metadata": {},
   "outputs": [
    {
     "ename": "NameError",
     "evalue": "name 'k' is not defined",
     "output_type": "error",
     "traceback": [
      "\u001b[0;31m---------------------------------------------------------------------------\u001b[0m",
      "\u001b[0;31mNameError\u001b[0m                                 Traceback (most recent call last)",
      "\u001b[0;32m<ipython-input-4-141b3ea3f03f>\u001b[0m in \u001b[0;36m<module>\u001b[0;34m\u001b[0m\n\u001b[0;32m----> 1\u001b[0;31m \u001b[0mk\u001b[0m\u001b[0;34m\u001b[0m\u001b[0;34m\u001b[0m\u001b[0m\n\u001b[0m",
      "\u001b[0;31mNameError\u001b[0m: name 'k' is not defined"
     ]
    }
   ],
   "source": [
    "k"
   ]
  },
  {
   "cell_type": "code",
   "execution_count": 14,
   "metadata": {},
   "outputs": [],
   "source": [
    "k = librosa.amplitude_to_db(k)"
   ]
  },
  {
   "cell_type": "code",
   "execution_count": 16,
   "metadata": {},
   "outputs": [
    {
     "data": {
      "text/plain": [
       "(40, 225)"
      ]
     },
     "execution_count": 16,
     "metadata": {},
     "output_type": "execute_result"
    }
   ],
   "source": [
    "k.shape"
   ]
  },
  {
   "cell_type": "code",
   "execution_count": 9,
   "metadata": {},
   "outputs": [
    {
     "data": {
      "text/plain": [
       "array([-0.00010834, -0.00010834, -0.00010834, ...,  0.00439955,\n",
       "        0.0029367 ,  0.00026383], dtype=float32)"
      ]
     },
     "execution_count": 9,
     "metadata": {},
     "output_type": "execute_result"
    }
   ],
   "source": [
    "normalized"
   ]
  },
  {
   "cell_type": "code",
   "execution_count": 10,
   "metadata": {},
   "outputs": [
    {
     "data": {
      "text/plain": [
       "array([0.0000000e+00, 0.0000000e+00, 0.0000000e+00, ..., 5.3999905e-04,\n",
       "       3.6476480e-04, 4.4582503e-05], dtype=float32)"
      ]
     },
     "execution_count": 10,
     "metadata": {},
     "output_type": "execute_result"
    }
   ],
   "source": [
    "audio"
   ]
  },
  {
   "cell_type": "code",
   "execution_count": 254,
   "metadata": {},
   "outputs": [
    {
     "data": {
      "text/plain": [
       "(114688,)"
      ]
     },
     "execution_count": 254,
     "metadata": {},
     "output_type": "execute_result"
    }
   ],
   "source": [
    "normalized.shape"
   ]
  },
  {
   "cell_type": "code",
   "execution_count": 8,
   "metadata": {},
   "outputs": [],
   "source": [
    "f = os.walk('/home/u52660/data/25hours/')"
   ]
  },
  {
   "cell_type": "code",
   "execution_count": 6,
   "metadata": {},
   "outputs": [],
   "source": [
    "num_hours = 0\n",
    "character_mapping = utils.create_character_mapping()"
   ]
  },
  {
   "cell_type": "code",
   "execution_count": 9,
   "metadata": {},
   "outputs": [
    {
     "name": "stdout",
     "output_type": "stream",
     "text": [
      "['scripts.csv', 'scripts.txt', 'metadata.csv']\n",
      "DONE\n",
      "Hours pre-processed: 0\n",
      "Time: 0.006566524505615234\n"
     ]
    }
   ],
   "source": [
    "start_time = time.time()\n",
    "with open(os.path.join(conf_preprocess['data_dir'], 'metadata.csv'), 'w', newline='') as metadata:\n",
    "    metadata_writer = csv.DictWriter(metadata, fieldnames=['filename', 'spec_length', 'labels_length', 'labels'])\n",
    "    metadata_writer.writeheader()\n",
    "    for root , dirs , files in tqdm(f):\n",
    "        for file in files :\n",
    "            if file[-4:] == '.txt':\n",
    "                  with open(os.path.join(root, file), 'r') as f:\n",
    "                        for line in f.readlines():\n",
    "                            sections = line.split('|')\n",
    "                            serious = sections[0].split('/')\n",
    "                            kali = serious\n",
    "                            path_save = '/home/u52660/data/25hours/spec/'+str(sections[0]) + '.npy'\n",
    "                            audio, sr = librosa.load(os.path.join(root + 'wavs/' , sections[0]))\n",
    "                            audio = librosa.resample(audio , sr , 16000)\n",
    "                            num_hours += (len(audio) / sr) / 3600 \n",
    "                            spec = mfcc(audio , 16000 , hop_length=400 , win_length=160 )\n",
    "                            #print(spec.shape)\n",
    "                            np.save(path_save, spec ,allow_pickle=False)\n",
    "                            ids = [character_mapping[c] for c in '|'.join(sections[1:]).lower()\n",
    "                                       if c in character_mapping]\n",
    "                            k = [str(i) for i in ids]\n",
    "                            metadata_writer.writerow({\n",
    "                                'filename': sections[0],\n",
    "                                'spec_length': spec.shape[0],\n",
    "                                'labels_length': len(ids),\n",
    "                                'labels': ' '.join([str(i) for i in ids])\n",
    "                            })                            \n",
    "print('DONE')\n",
    "print(\"Hours pre-processed: \" + str(num_hours))\n",
    "print(\"Time: \" + str(time.time() - start_time))"
   ]
  },
  {
   "cell_type": "code",
   "execution_count": null,
   "metadata": {},
   "outputs": [],
   "source": []
  }
 ],
 "metadata": {
  "kernelspec": {
   "display_name": "Python 3.7 (Intel® oneAPI)",
   "language": "python",
   "name": "c009-intel_distribution_of_python_3_oneapi-beta05-python"
  },
  "language_info": {
   "codemirror_mode": {
    "name": "ipython",
    "version": 3
   },
   "file_extension": ".py",
   "mimetype": "text/x-python",
   "name": "python",
   "nbconvert_exporter": "python",
   "pygments_lexer": "ipython3",
   "version": "3.7.9"
  }
 },
 "nbformat": 4,
 "nbformat_minor": 4
}
